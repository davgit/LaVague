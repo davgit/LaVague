{
  "cells": [
    {
      "cell_type": "markdown",
      "metadata": {
        "id": "57cUBU_kW8YI"
      },
      "source": [
        "<div id=\"colab_button\\\">\n",
        "    <h1>LaVague: Local inference Quick-tour</h1>\n",
        "    <a target=\"_blank\\\" href=\"https://colab.research.google.com/github/lavague-ai/lavague/blob/main/docs/docs/get-started/local-quick-tour.ipynb\">\n",
        "    <img src=\"https://colab.research.google.com/assets/colab-badge.svg\" alt=\"Open In Colab\"/></a>\n",
        "    </div>"
      ]
    },
    {
      "cell_type": "markdown",
      "metadata": {},
      "source": [
        "## Introduction\n",
        "\n",
        "LaVague is an open-source framework allowing users to leverage AI to turn natural language instructions into executable code to automate UI actions, such as filling in a form, etc.\n",
        "\n",
        "In this quick tour, we are going to show you step-by-step how can you can set-up and use LaVague to perform a few example actions on webpages. We will create and launch a Gradio demo at the end of the notebook where you can test out using LaVague interactively.\n",
        "\n",
        "> Pre-requisites: Note, if you are running the notebook locally, you will need python (test on python>=3.8) and pip installed.\n",
        "\n",
        "> If you prefer to run LaVague as a Python script, you can do so by executing the `local_gemma.py` script in the `gradio_demos` folder. However, you will still need to install the necessary webdriver for Selenium - instructions to do so are detailed in the following step.\n",
        "\n",
        "### Local vs Remote inference\n",
        "\n",
        "LaVague is compatible with two modes of inference: remote or local. Users can choose whichever best suits their needs.\n",
        "\n",
        "With local inference, the LLM used by LaVague and inference is downloaded and queried locally on the user's machine; whereas with remote inference, we can query an LLM hosted by a third-party (such as using the Hugging Face Inference API as we do in the [quick tour](./quick-tour.ipynb)).\n",
        "\n",
        "Note that local inference can result in a longer wait time when using LaVague for the first time due to the time required to download the LLM. You also will need sufficient space on your device to download and run the model.\n",
        "\n",
        "If you prefer to perform remote inference, see the [quick tour](./quick-tour.ipynb).\n"
      ]
    },
    {
      "cell_type": "markdown",
      "metadata": {},
      "source": [
        "## Initial set-up"
      ]
    },
    {
      "cell_type": "markdown",
      "metadata": {},
      "source": [
        "### Installing driver for Selenium\n",
        "\n",
        "LaVague will generate code using [Selenium](https://www.selenium.dev/) to perform user interface actions.\n",
        "\n",
        "Selenium requires a driver to interface with the chosen browser (Chrome, Firefox, etc.)\n",
        "\n",
        "We therefore first need to download the Chrome driver.\n",
        "\n",
        "⚠️ For instructions on how to install a driver on a different OS, [see the Selenium documentation](https://selenium-python.readthedocs.io/installation.html#drivers)\n",
        "\n",
        "> Note that while we use Selenium for this example. We hope to integrate different automation tools such as Playwright at a later date."
      ]
    },
    {
      "cell_type": "code",
      "execution_count": null,
      "metadata": {},
      "outputs": [],
      "source": [
        "# If you are missing any apt packages uncomment and run this command first:\n",
        "# !sudo apt update\n",
        "\n",
        "!sudo apt install -y ca-certificates fonts-liberation unzip \\\n",
        "libappindicator3-1 libasound2 libatk-bridge2.0-0 libatk1.0-0 libc6 \\\n",
        "libcairo2 libcups2 libdbus-1-3 libexpat1 libfontconfig1 libgbm1 \\\n",
        "libgcc1 libglib2.0-0 libgtk-3-0 libnspr4 libnss3 libpango-1.0-0 \\\n",
        "libpangocairo-1.0-0 libstdc++6 libx11-6 libx11-xcb1 libxcb1 \\\n",
        "libxcomposite1 libxcursor1 libxdamage1 libxext6 libxfixes3 libxi6 \\\n",
        "libxrandr2 libxrender1 libxss1 libxtst6 lsb-release wget xdg-utils"
      ]
    },
    {
      "cell_type": "code",
      "execution_count": null,
      "metadata": {},
      "outputs": [],
      "source": [
        "!wget https://storage.googleapis.com/chrome-for-testing-public/122.0.6261.94/linux64/chrome-linux64.zip\n",
        "!wget https://storage.googleapis.com/chrome-for-testing-public/122.0.6261.94/linux64/chromedriver-linux64.zip\n",
        "!unzip chrome-linux64.zip\n",
        "!unzip chromedriver-linux64.zip\n",
        "!rm chrome-linux64.zip chromedriver-linux64.zip"
      ]
    },
    {
      "cell_type": "markdown",
      "metadata": {},
      "source": [
        "### Installing LaVague\n",
        "\n",
        "We now need to download the LaVague PyPi package, which contains the `ActionEngine` module dedicated to handling all the key AI operations and the `CommandCenter` module, which orchestrates the whole workflow."
      ]
    },
    {
      "cell_type": "code",
      "execution_count": null,
      "metadata": {},
      "outputs": [],
      "source": [
        "!pip install lavague"
      ]
    },
    {
      "cell_type": "markdown",
      "metadata": {},
      "source": [
        "## Running LaVague\n",
        "\n",
        "### Initial config\n",
        "\n",
        "Now we are ready to initialize our `CommandCenter` class.\n",
        "\n",
        "We will pass the class three key values:\n",
        "- An instance of `ActionEngine` with a LlamaIndex LLM and embedding model. For this example, we will select the default `local LLM` (zephyr-7b-gemma-v0.1) and default `embedding` (bge-small-en-v1.5)\n",
        "- The path to our chrome-linux64/Chrome folder\n",
        "- The path to our chromedriver-linux64/chromedriver folder"
      ]
    },
    {
      "cell_type": "code",
      "execution_count": 9,
      "metadata": {},
      "outputs": [],
      "source": [
        "from lavague import ActionEngine, CommandCenter\n",
        "from lavague.defaults import DefaultLocalLLM, DefaultEmbedder\n",
        "\n",
        "commandCenter = CommandCenter(\n",
        "    ActionEngine(DefaultLocalLLM(), DefaultEmbedder()),\n",
        "    chromePath=\"chrome-linux64/chrome\",\n",
        "    chromedriverPath=\"chromedriver-linux64/chromedriver\",\n",
        ")"
      ]
    },
    {
      "cell_type": "markdown",
      "metadata": {},
      "source": [
        "### Launching LaVague\n",
        "\n",
        "We are now ready to launch an interactive Gradio demo which will allow us to execute natural language instructions on a site of our choice.\n",
        "\n",
        "To do this, we use the `commandCenter.run()` method, passing it the URL of the website we wish to perform actions on and three default instructions which will appear in the interactive Gradio page this will generate."
      ]
    },
    {
      "cell_type": "code",
      "execution_count": null,
      "metadata": {},
      "outputs": [],
      "source": [
        "commandCenter.run(\n",
        "    \"https://huggingface.co\",\n",
        "    [\n",
        "        \"Click on the Datasets item on the menu, between Models and Spaces\",\n",
        "        \"Click on the search bar 'Filter by name', type 'The Stack', and press 'Enter'\",\n",
        "        \"Scroll by 500 pixels\",\n",
        "    ],\n",
        ")"
      ]
    },
    {
      "cell_type": "markdown",
      "metadata": {},
      "source": [
        "⚠️ You will need to interact with the generated Gradio demo to perform automated actions. \n",
        "\n",
        "First, you should by click in the URL textbox and press enter. Then, you should select your chosen default natural language instruction or write your own, and again click within the instruction textbox and press enter.\n",
        "\n",
        "At this point Selenium code in Python is generated by our LLM, which is then executed to perform the desired action on the website.\n",
        "\n",
        "The action will then be visibly executed in the visual interface and you can also check out the code LaVague executed to perform this action on the right-hand side of the Gradio page.\n",
        "\n",
        "> Note you can open the Gradio interface in your browser using the URL displayed in the cell output below.\n"
      ]
    },
    {
      "cell_type": "markdown",
      "metadata": {},
      "source": [
        "### Conclusions\n",
        "\n",
        "That brings us to the end of this quick-tour. If you have any questions, join us on the LaVague Discord [here](https://discord.com/invite/SDxn9KpqX9)."
      ]
    }
  ],
  "metadata": {
    "accelerator": "GPU",
    "colab": {
      "gpuType": "T4",
      "machine_shape": "hm",
      "provenance": []
    },
    "kernelspec": {
      "display_name": "Python 3",
      "name": "python3"
    },
    "language_info": {
      "codemirror_mode": {
        "name": "ipython",
        "version": 3
      },
      "file_extension": ".py",
      "mimetype": "text/x-python",
      "name": "python",
      "nbconvert_exporter": "python",
      "pygments_lexer": "ipython3",
      "version": "3.8.10"
    },
    "widgets": {
      "application/vnd.jupyter.widget-state+json": {
        "0d9126c291a04e8fb1ce30a7103197d1": {
          "model_module": "@jupyter-widgets/base",
          "model_module_version": "1.2.0",
          "model_name": "LayoutModel",
          "state": {
            "_model_module": "@jupyter-widgets/base",
            "_model_module_version": "1.2.0",
            "_model_name": "LayoutModel",
            "_view_count": null,
            "_view_module": "@jupyter-widgets/base",
            "_view_module_version": "1.2.0",
            "_view_name": "LayoutView",
            "align_content": null,
            "align_items": null,
            "align_self": null,
            "border": null,
            "bottom": null,
            "display": null,
            "flex": null,
            "flex_flow": null,
            "grid_area": null,
            "grid_auto_columns": null,
            "grid_auto_flow": null,
            "grid_auto_rows": null,
            "grid_column": null,
            "grid_gap": null,
            "grid_row": null,
            "grid_template_areas": null,
            "grid_template_columns": null,
            "grid_template_rows": null,
            "height": null,
            "justify_content": null,
            "justify_items": null,
            "left": null,
            "margin": null,
            "max_height": null,
            "max_width": null,
            "min_height": null,
            "min_width": null,
            "object_fit": null,
            "object_position": null,
            "order": null,
            "overflow": null,
            "overflow_x": null,
            "overflow_y": null,
            "padding": null,
            "right": null,
            "top": null,
            "visibility": null,
            "width": null
          }
        },
        "15c0d6723eba4298b61ddd67c1595f66": {
          "model_module": "@jupyter-widgets/controls",
          "model_module_version": "1.5.0",
          "model_name": "FloatProgressModel",
          "state": {
            "_dom_classes": [],
            "_model_module": "@jupyter-widgets/controls",
            "_model_module_version": "1.5.0",
            "_model_name": "FloatProgressModel",
            "_view_count": null,
            "_view_module": "@jupyter-widgets/controls",
            "_view_module_version": "1.5.0",
            "_view_name": "ProgressView",
            "bar_style": "success",
            "description": "",
            "description_tooltip": null,
            "layout": "IPY_MODEL_0d9126c291a04e8fb1ce30a7103197d1",
            "max": 4,
            "min": 0,
            "orientation": "horizontal",
            "style": "IPY_MODEL_a36c6df55813490a9e0b42b67a698327",
            "value": 4
          }
        },
        "2600f072828a4abf8e8ed51cd64f2dc2": {
          "model_module": "@jupyter-widgets/controls",
          "model_module_version": "1.5.0",
          "model_name": "HTMLModel",
          "state": {
            "_dom_classes": [],
            "_model_module": "@jupyter-widgets/controls",
            "_model_module_version": "1.5.0",
            "_model_name": "HTMLModel",
            "_view_count": null,
            "_view_module": "@jupyter-widgets/controls",
            "_view_module_version": "1.5.0",
            "_view_name": "HTMLView",
            "description": "",
            "description_tooltip": null,
            "layout": "IPY_MODEL_984f401572a645f7861db035993c806b",
            "placeholder": "​",
            "style": "IPY_MODEL_2ba0655ceb93417d859921bf08b5ec9d",
            "value": "Loading checkpoint shards: 100%"
          }
        },
        "2ba0655ceb93417d859921bf08b5ec9d": {
          "model_module": "@jupyter-widgets/controls",
          "model_module_version": "1.5.0",
          "model_name": "DescriptionStyleModel",
          "state": {
            "_model_module": "@jupyter-widgets/controls",
            "_model_module_version": "1.5.0",
            "_model_name": "DescriptionStyleModel",
            "_view_count": null,
            "_view_module": "@jupyter-widgets/base",
            "_view_module_version": "1.2.0",
            "_view_name": "StyleView",
            "description_width": ""
          }
        },
        "398c2359c137457b94fe7ed7b8c4b939": {
          "model_module": "@jupyter-widgets/controls",
          "model_module_version": "1.5.0",
          "model_name": "HBoxModel",
          "state": {
            "_dom_classes": [],
            "_model_module": "@jupyter-widgets/controls",
            "_model_module_version": "1.5.0",
            "_model_name": "HBoxModel",
            "_view_count": null,
            "_view_module": "@jupyter-widgets/controls",
            "_view_module_version": "1.5.0",
            "_view_name": "HBoxView",
            "box_style": "",
            "children": [
              "IPY_MODEL_2600f072828a4abf8e8ed51cd64f2dc2",
              "IPY_MODEL_15c0d6723eba4298b61ddd67c1595f66",
              "IPY_MODEL_d1a4215edd20433482d339c83c9d0060"
            ],
            "layout": "IPY_MODEL_c71a506bf63948c8bfb79b6811705de5"
          }
        },
        "777ac9bad3974a2ab7062644bda6a3c6": {
          "model_module": "@jupyter-widgets/controls",
          "model_module_version": "1.5.0",
          "model_name": "DescriptionStyleModel",
          "state": {
            "_model_module": "@jupyter-widgets/controls",
            "_model_module_version": "1.5.0",
            "_model_name": "DescriptionStyleModel",
            "_view_count": null,
            "_view_module": "@jupyter-widgets/base",
            "_view_module_version": "1.2.0",
            "_view_name": "StyleView",
            "description_width": ""
          }
        },
        "984f401572a645f7861db035993c806b": {
          "model_module": "@jupyter-widgets/base",
          "model_module_version": "1.2.0",
          "model_name": "LayoutModel",
          "state": {
            "_model_module": "@jupyter-widgets/base",
            "_model_module_version": "1.2.0",
            "_model_name": "LayoutModel",
            "_view_count": null,
            "_view_module": "@jupyter-widgets/base",
            "_view_module_version": "1.2.0",
            "_view_name": "LayoutView",
            "align_content": null,
            "align_items": null,
            "align_self": null,
            "border": null,
            "bottom": null,
            "display": null,
            "flex": null,
            "flex_flow": null,
            "grid_area": null,
            "grid_auto_columns": null,
            "grid_auto_flow": null,
            "grid_auto_rows": null,
            "grid_column": null,
            "grid_gap": null,
            "grid_row": null,
            "grid_template_areas": null,
            "grid_template_columns": null,
            "grid_template_rows": null,
            "height": null,
            "justify_content": null,
            "justify_items": null,
            "left": null,
            "margin": null,
            "max_height": null,
            "max_width": null,
            "min_height": null,
            "min_width": null,
            "object_fit": null,
            "object_position": null,
            "order": null,
            "overflow": null,
            "overflow_x": null,
            "overflow_y": null,
            "padding": null,
            "right": null,
            "top": null,
            "visibility": null,
            "width": null
          }
        },
        "a36c6df55813490a9e0b42b67a698327": {
          "model_module": "@jupyter-widgets/controls",
          "model_module_version": "1.5.0",
          "model_name": "ProgressStyleModel",
          "state": {
            "_model_module": "@jupyter-widgets/controls",
            "_model_module_version": "1.5.0",
            "_model_name": "ProgressStyleModel",
            "_view_count": null,
            "_view_module": "@jupyter-widgets/base",
            "_view_module_version": "1.2.0",
            "_view_name": "StyleView",
            "bar_color": null,
            "description_width": ""
          }
        },
        "c71a506bf63948c8bfb79b6811705de5": {
          "model_module": "@jupyter-widgets/base",
          "model_module_version": "1.2.0",
          "model_name": "LayoutModel",
          "state": {
            "_model_module": "@jupyter-widgets/base",
            "_model_module_version": "1.2.0",
            "_model_name": "LayoutModel",
            "_view_count": null,
            "_view_module": "@jupyter-widgets/base",
            "_view_module_version": "1.2.0",
            "_view_name": "LayoutView",
            "align_content": null,
            "align_items": null,
            "align_self": null,
            "border": null,
            "bottom": null,
            "display": null,
            "flex": null,
            "flex_flow": null,
            "grid_area": null,
            "grid_auto_columns": null,
            "grid_auto_flow": null,
            "grid_auto_rows": null,
            "grid_column": null,
            "grid_gap": null,
            "grid_row": null,
            "grid_template_areas": null,
            "grid_template_columns": null,
            "grid_template_rows": null,
            "height": null,
            "justify_content": null,
            "justify_items": null,
            "left": null,
            "margin": null,
            "max_height": null,
            "max_width": null,
            "min_height": null,
            "min_width": null,
            "object_fit": null,
            "object_position": null,
            "order": null,
            "overflow": null,
            "overflow_x": null,
            "overflow_y": null,
            "padding": null,
            "right": null,
            "top": null,
            "visibility": null,
            "width": null
          }
        },
        "d1a4215edd20433482d339c83c9d0060": {
          "model_module": "@jupyter-widgets/controls",
          "model_module_version": "1.5.0",
          "model_name": "HTMLModel",
          "state": {
            "_dom_classes": [],
            "_model_module": "@jupyter-widgets/controls",
            "_model_module_version": "1.5.0",
            "_model_name": "HTMLModel",
            "_view_count": null,
            "_view_module": "@jupyter-widgets/controls",
            "_view_module_version": "1.5.0",
            "_view_name": "HTMLView",
            "description": "",
            "description_tooltip": null,
            "layout": "IPY_MODEL_ec5d092ea24946279f14f03570a48c98",
            "placeholder": "​",
            "style": "IPY_MODEL_777ac9bad3974a2ab7062644bda6a3c6",
            "value": " 4/4 [00:12&lt;00:00,  2.89s/it]"
          }
        },
        "ec5d092ea24946279f14f03570a48c98": {
          "model_module": "@jupyter-widgets/base",
          "model_module_version": "1.2.0",
          "model_name": "LayoutModel",
          "state": {
            "_model_module": "@jupyter-widgets/base",
            "_model_module_version": "1.2.0",
            "_model_name": "LayoutModel",
            "_view_count": null,
            "_view_module": "@jupyter-widgets/base",
            "_view_module_version": "1.2.0",
            "_view_name": "LayoutView",
            "align_content": null,
            "align_items": null,
            "align_self": null,
            "border": null,
            "bottom": null,
            "display": null,
            "flex": null,
            "flex_flow": null,
            "grid_area": null,
            "grid_auto_columns": null,
            "grid_auto_flow": null,
            "grid_auto_rows": null,
            "grid_column": null,
            "grid_gap": null,
            "grid_row": null,
            "grid_template_areas": null,
            "grid_template_columns": null,
            "grid_template_rows": null,
            "height": null,
            "justify_content": null,
            "justify_items": null,
            "left": null,
            "margin": null,
            "max_height": null,
            "max_width": null,
            "min_height": null,
            "min_width": null,
            "object_fit": null,
            "object_position": null,
            "order": null,
            "overflow": null,
            "overflow_x": null,
            "overflow_y": null,
            "padding": null,
            "right": null,
            "top": null,
            "visibility": null,
            "width": null
          }
        }
      }
    }
  },
  "nbformat": 4,
  "nbformat_minor": 0
}
